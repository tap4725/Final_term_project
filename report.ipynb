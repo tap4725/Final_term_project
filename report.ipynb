{
 "cells": [
  {
   "cell_type": "markdown",
   "metadata": {},
   "source": [
    "# CS 634 Data Mining Final Term Project -- Tap47"
   ]
  },
  {
   "cell_type": "markdown",
   "metadata": {},
   "source": [
    "# 1. Introduction"
   ]
  },
  {
   "cell_type": "markdown",
   "metadata": {},
   "source": [
    "This notebook provides the report of my work on utilizing 3 machine learning models on loan data for binary classification problem.\n",
    "Machine learning models i chose: 1) Random Forest, 2) KNN, 3) LSTM."
   ]
  },
  {
   "cell_type": "markdown",
   "metadata": {},
   "source": [
    "# 2. Abstract"
   ]
  },
  {
   "cell_type": "markdown",
   "metadata": {},
   "source": [
    "The notebook includes code for evaluating model performance using various metrics. Key observations:\n",
    "\n",
    "- Custom Metrics Calculation: The notebook defines a function (matrics_cal) to calculate performance metrics such as accuracy, precision, recall, F1 score, Brier score, AUC, and Brier Skill Score (BSS).\n",
    "- Model Training and Evaluation: 3 models are defined and evaluated using 10-fold cross-validation (KFold). For each fold, metrics are calculated and stored in a list, which is later converted to a DataFrame.\n",
    "- Performance Metrics: Metrics like AUC, precision, and Brier score suggest an evaluation process aimed at assessing probabilistic and classification performance."
   ]
  },
  {
   "cell_type": "markdown",
   "metadata": {},
   "source": [
    "# 3. Data Visualization and Preprocessing"
   ]
  },
  {
   "cell_type": "code",
   "execution_count": 3,
   "metadata": {},
   "outputs": [
    {
     "data": {
      "text/html": [
       "<div>\n",
       "<style scoped>\n",
       "    .dataframe tbody tr th:only-of-type {\n",
       "        vertical-align: middle;\n",
       "    }\n",
       "\n",
       "    .dataframe tbody tr th {\n",
       "        vertical-align: top;\n",
       "    }\n",
       "\n",
       "    .dataframe thead th {\n",
       "        text-align: right;\n",
       "    }\n",
       "</style>\n",
       "<table border=\"1\" class=\"dataframe\">\n",
       "  <thead>\n",
       "    <tr style=\"text-align: right;\">\n",
       "      <th></th>\n",
       "      <th>person_age</th>\n",
       "      <th>person_income</th>\n",
       "      <th>person_emp_exp</th>\n",
       "      <th>loan_amnt</th>\n",
       "      <th>loan_int_rate</th>\n",
       "      <th>loan_percent_income</th>\n",
       "      <th>cb_person_cred_hist_length</th>\n",
       "      <th>credit_score</th>\n",
       "      <th>loan_status</th>\n",
       "    </tr>\n",
       "  </thead>\n",
       "  <tbody>\n",
       "    <tr>\n",
       "      <th>count</th>\n",
       "      <td>45000.000000</td>\n",
       "      <td>4.500000e+04</td>\n",
       "      <td>45000.000000</td>\n",
       "      <td>45000.000000</td>\n",
       "      <td>45000.000000</td>\n",
       "      <td>45000.000000</td>\n",
       "      <td>45000.000000</td>\n",
       "      <td>45000.000000</td>\n",
       "      <td>45000.000000</td>\n",
       "    </tr>\n",
       "    <tr>\n",
       "      <th>mean</th>\n",
       "      <td>27.764178</td>\n",
       "      <td>8.031905e+04</td>\n",
       "      <td>5.410333</td>\n",
       "      <td>9583.157556</td>\n",
       "      <td>11.006606</td>\n",
       "      <td>0.139725</td>\n",
       "      <td>5.867489</td>\n",
       "      <td>632.608756</td>\n",
       "      <td>0.222222</td>\n",
       "    </tr>\n",
       "    <tr>\n",
       "      <th>std</th>\n",
       "      <td>6.045108</td>\n",
       "      <td>8.042250e+04</td>\n",
       "      <td>6.063532</td>\n",
       "      <td>6314.886691</td>\n",
       "      <td>2.978808</td>\n",
       "      <td>0.087212</td>\n",
       "      <td>3.879702</td>\n",
       "      <td>50.435865</td>\n",
       "      <td>0.415744</td>\n",
       "    </tr>\n",
       "    <tr>\n",
       "      <th>min</th>\n",
       "      <td>20.000000</td>\n",
       "      <td>8.000000e+03</td>\n",
       "      <td>0.000000</td>\n",
       "      <td>500.000000</td>\n",
       "      <td>5.420000</td>\n",
       "      <td>0.000000</td>\n",
       "      <td>2.000000</td>\n",
       "      <td>390.000000</td>\n",
       "      <td>0.000000</td>\n",
       "    </tr>\n",
       "    <tr>\n",
       "      <th>25%</th>\n",
       "      <td>24.000000</td>\n",
       "      <td>4.720400e+04</td>\n",
       "      <td>1.000000</td>\n",
       "      <td>5000.000000</td>\n",
       "      <td>8.590000</td>\n",
       "      <td>0.070000</td>\n",
       "      <td>3.000000</td>\n",
       "      <td>601.000000</td>\n",
       "      <td>0.000000</td>\n",
       "    </tr>\n",
       "    <tr>\n",
       "      <th>50%</th>\n",
       "      <td>26.000000</td>\n",
       "      <td>6.704800e+04</td>\n",
       "      <td>4.000000</td>\n",
       "      <td>8000.000000</td>\n",
       "      <td>11.010000</td>\n",
       "      <td>0.120000</td>\n",
       "      <td>4.000000</td>\n",
       "      <td>640.000000</td>\n",
       "      <td>0.000000</td>\n",
       "    </tr>\n",
       "    <tr>\n",
       "      <th>75%</th>\n",
       "      <td>30.000000</td>\n",
       "      <td>9.578925e+04</td>\n",
       "      <td>8.000000</td>\n",
       "      <td>12237.250000</td>\n",
       "      <td>12.990000</td>\n",
       "      <td>0.190000</td>\n",
       "      <td>8.000000</td>\n",
       "      <td>670.000000</td>\n",
       "      <td>0.000000</td>\n",
       "    </tr>\n",
       "    <tr>\n",
       "      <th>max</th>\n",
       "      <td>144.000000</td>\n",
       "      <td>7.200766e+06</td>\n",
       "      <td>125.000000</td>\n",
       "      <td>35000.000000</td>\n",
       "      <td>20.000000</td>\n",
       "      <td>0.660000</td>\n",
       "      <td>30.000000</td>\n",
       "      <td>850.000000</td>\n",
       "      <td>1.000000</td>\n",
       "    </tr>\n",
       "  </tbody>\n",
       "</table>\n",
       "</div>"
      ],
      "text/plain": [
       "         person_age  person_income  person_emp_exp     loan_amnt  \\\n",
       "count  45000.000000   4.500000e+04    45000.000000  45000.000000   \n",
       "mean      27.764178   8.031905e+04        5.410333   9583.157556   \n",
       "std        6.045108   8.042250e+04        6.063532   6314.886691   \n",
       "min       20.000000   8.000000e+03        0.000000    500.000000   \n",
       "25%       24.000000   4.720400e+04        1.000000   5000.000000   \n",
       "50%       26.000000   6.704800e+04        4.000000   8000.000000   \n",
       "75%       30.000000   9.578925e+04        8.000000  12237.250000   \n",
       "max      144.000000   7.200766e+06      125.000000  35000.000000   \n",
       "\n",
       "       loan_int_rate  loan_percent_income  cb_person_cred_hist_length  \\\n",
       "count   45000.000000         45000.000000                45000.000000   \n",
       "mean       11.006606             0.139725                    5.867489   \n",
       "std         2.978808             0.087212                    3.879702   \n",
       "min         5.420000             0.000000                    2.000000   \n",
       "25%         8.590000             0.070000                    3.000000   \n",
       "50%        11.010000             0.120000                    4.000000   \n",
       "75%        12.990000             0.190000                    8.000000   \n",
       "max        20.000000             0.660000                   30.000000   \n",
       "\n",
       "       credit_score   loan_status  \n",
       "count  45000.000000  45000.000000  \n",
       "mean     632.608756      0.222222  \n",
       "std       50.435865      0.415744  \n",
       "min      390.000000      0.000000  \n",
       "25%      601.000000      0.000000  \n",
       "50%      640.000000      0.000000  \n",
       "75%      670.000000      0.000000  \n",
       "max      850.000000      1.000000  "
      ]
     },
     "execution_count": 3,
     "metadata": {},
     "output_type": "execute_result"
    }
   ],
   "source": [
    "import pandas as pd\n",
    "\n",
    "df = pd.read_csv(\"data/loan_data.csv\")\n",
    "df.describe()"
   ]
  },
  {
   "cell_type": "code",
   "execution_count": 4,
   "metadata": {},
   "outputs": [
    {
     "name": "stdout",
     "output_type": "stream",
     "text": [
      "<class 'pandas.core.frame.DataFrame'>\n",
      "RangeIndex: 45000 entries, 0 to 44999\n",
      "Data columns (total 14 columns):\n",
      " #   Column                          Non-Null Count  Dtype  \n",
      "---  ------                          --------------  -----  \n",
      " 0   person_age                      45000 non-null  float64\n",
      " 1   person_gender                   45000 non-null  object \n",
      " 2   person_education                45000 non-null  object \n",
      " 3   person_income                   45000 non-null  float64\n",
      " 4   person_emp_exp                  45000 non-null  int64  \n",
      " 5   person_home_ownership           45000 non-null  object \n",
      " 6   loan_amnt                       45000 non-null  float64\n",
      " 7   loan_intent                     45000 non-null  object \n",
      " 8   loan_int_rate                   45000 non-null  float64\n",
      " 9   loan_percent_income             45000 non-null  float64\n",
      " 10  cb_person_cred_hist_length      45000 non-null  float64\n",
      " 11  credit_score                    45000 non-null  int64  \n",
      " 12  previous_loan_defaults_on_file  45000 non-null  object \n",
      " 13  loan_status                     45000 non-null  int64  \n",
      "dtypes: float64(6), int64(3), object(5)\n",
      "memory usage: 4.8+ MB\n"
     ]
    }
   ],
   "source": [
    "df.info()"
   ]
  },
  {
   "cell_type": "markdown",
   "metadata": {},
   "source": [
    "As we can see there are multiple columns with string values are present. which we need to encode into their numerical representation."
   ]
  },
  {
   "cell_type": "code",
   "execution_count": 5,
   "metadata": {},
   "outputs": [
    {
     "data": {
      "text/plain": [
       "array([1, 0])"
      ]
     },
     "execution_count": 5,
     "metadata": {},
     "output_type": "execute_result"
    }
   ],
   "source": [
    "df[\"loan_status\"].unique()"
   ]
  },
  {
   "cell_type": "markdown",
   "metadata": {},
   "source": [
    "as we can see it is binary classification problem."
   ]
  },
  {
   "cell_type": "code",
   "execution_count": 6,
   "metadata": {},
   "outputs": [
    {
     "data": {
      "text/plain": [
       "person_age                        False\n",
       "person_gender                     False\n",
       "person_education                  False\n",
       "person_income                     False\n",
       "person_emp_exp                    False\n",
       "person_home_ownership             False\n",
       "loan_amnt                         False\n",
       "loan_intent                       False\n",
       "loan_int_rate                     False\n",
       "loan_percent_income               False\n",
       "cb_person_cred_hist_length        False\n",
       "credit_score                      False\n",
       "previous_loan_defaults_on_file    False\n",
       "loan_status                       False\n",
       "dtype: bool"
      ]
     },
     "execution_count": 6,
     "metadata": {},
     "output_type": "execute_result"
    }
   ],
   "source": [
    "df.isnull().any()"
   ]
  },
  {
   "cell_type": "markdown",
   "metadata": {},
   "source": [
    "there are no null or missing values in the dataset."
   ]
  },
  {
   "cell_type": "code",
   "execution_count": 7,
   "metadata": {},
   "outputs": [
    {
     "data": {
      "text/plain": [
       "loan_status\n",
       "0    7000\n",
       "1    2000\n",
       "Name: count, dtype: int64"
      ]
     },
     "execution_count": 7,
     "metadata": {},
     "output_type": "execute_result"
    }
   ],
   "source": [
    "df = df.groupby('loan_status').sample(frac=0.2, random_state=42)\n",
    "df[\"loan_status\"].value_counts()"
   ]
  },
  {
   "cell_type": "markdown",
   "metadata": {},
   "source": [
    "taking sample of the dataset since its too big for the project."
   ]
  },
  {
   "cell_type": "markdown",
   "metadata": {},
   "source": [
    "### Here is the correlation charts of the data."
   ]
  },
  {
   "cell_type": "markdown",
   "metadata": {},
   "source": [
    "<img src=\"charts/corr.png\">\n"
   ]
  },
  {
   "cell_type": "markdown",
   "metadata": {},
   "source": [
    "### Here is the histogram of features based on the target value."
   ]
  },
  {
   "cell_type": "markdown",
   "metadata": {},
   "source": [
    "\n",
    "<img src=\"charts/histo.png\">\n"
   ]
  },
  {
   "cell_type": "markdown",
   "metadata": {},
   "source": [
    "### Density graph of labels."
   ]
  },
  {
   "cell_type": "markdown",
   "metadata": {},
   "source": [
    "\n",
    "<img src=\"charts/dens_graph.png\">\n"
   ]
  },
  {
   "cell_type": "markdown",
   "metadata": {},
   "source": [
    "# 4. Metrics Calculations and Common Training functions."
   ]
  },
  {
   "cell_type": "code",
   "execution_count": 8,
   "metadata": {},
   "outputs": [],
   "source": [
    "def matrics_cal(y_test, y_pred, y_proba = None):\n",
    "    matrics = {}\n",
    "    matrics[\"TP\"] = sum(np.where(y_test & y_pred, 1, 0))\n",
    "    matrics[\"TN\"] = sum(np.where( (y_test == 0) & (y_pred == 0), 1, 0))\n",
    "    matrics[\"FP\"] = sum(np.where( (y_test == 0) & (y_pred == 1), 1, 0))\n",
    "    matrics[\"FN\"] = sum(np.where( (y_test == 1) & (y_pred == 0), 1, 0))\n",
    "\n",
    "    matrics[\"TPR\"] =  round(matrics[\"TP\"] / (matrics[\"TP\"] +  matrics[\"FN\"]),3)\n",
    "    matrics[\"TNR\"] =  round(matrics[\"TN\"] / (matrics[\"TN\"] +  matrics[\"FP\"]),3)\n",
    "    matrics[\"FPR\"] =  round(matrics[\"FP\"] / (matrics[\"FP\"] +  matrics[\"TN\"]),3)\n",
    "    matrics[\"FNR\"] =  round(matrics[\"FN\"] / (matrics[\"TP\"] +  matrics[\"FN\"]),3)\n",
    "\n",
    "    matrics[\"Accuracy\"] = round((matrics[\"TP\"] + matrics[\"TN\"]) / (matrics[\"TP\"] + matrics[\"TN\"] + matrics[\"FP\"] + matrics[\"FN\"]),3)\n",
    "    matrics[\"Precision\"] = round(matrics[\"TP\"] / (matrics[\"TP\"] +  matrics[\"FP\"]),3)\n",
    "    matrics[\"F1\"] = 2 * round(((matrics[\"Precision\"] * matrics[\"TPR\"]) / (matrics[\"Precision\"] + matrics[\"TPR\"])),3)\n",
    "\n",
    "    matrics[\"brier_score\"] = round(brier_score_loss(y_test, y_proba),3)\n",
    "    matrics[\"AUC\"] =  round(roc_auc_score(y_test, y_proba),3)\n",
    "    reference_prob = np.mean(y_test)\n",
    "    reference_brier_score = brier_score_loss(y_test, [reference_prob] * len(y_test))\n",
    "    matrics[\"BSS\"] = round(1 - (matrics[\"brier_score\"] / reference_brier_score),3)\n",
    "\t\t\n",
    "    return matrics"
   ]
  },
  {
   "cell_type": "code",
   "execution_count": 9,
   "metadata": {},
   "outputs": [],
   "source": [
    "def train(clf, X, y):\n",
    "    \n",
    "    kf = KFold(n_splits=10, shuffle=True, random_state=42)\n",
    "    metrics_list = []\n",
    "    \n",
    "    for i, (train_index, test_index) in enumerate(kf.split(X), start=1):\n",
    "        # Splitting the data\n",
    "        X_train, X_test = X.iloc[train_index], X.iloc[test_index]\n",
    "        y_train, y_test = y.iloc[train_index], y.iloc[test_index]\n",
    "    \n",
    "        clf.fit(X_train, y_train)\n",
    "    \n",
    "        y_pred = clf.predict(X_test)\n",
    "        y_pred_proba = clf.predict_proba(X_test)[:, 1]\n",
    "\n",
    "        \n",
    "        mat = matrics_cal(y_test, y_pred, y_pred_proba)\n",
    "        print(f\"Fold {i}: {mat}\")\n",
    "       \n",
    "        metrics_list.append(mat)\n",
    "\n",
    "    return metrics_list, y_pred_proba"
   ]
  },
  {
   "cell_type": "code",
   "execution_count": 10,
   "metadata": {},
   "outputs": [],
   "source": [
    "def plot_matrics(matrics):\n",
    "    plt.figure(figsize=(15,15))\n",
    "    for ax, col in enumerate(matrics.columns):\n",
    "        plt.subplot(5,4, ax+1)\n",
    "        plt.title(col)\n",
    "        sns.lineplot(data=matrics, x=matrics.index, y=col)\n",
    "        plt.xlabel(\"Folds\")\n",
    "        plt.legend()\n",
    "    \n",
    "    plt.tight_layout()"
   ]
  },
  {
   "cell_type": "markdown",
   "metadata": {},
   "source": [
    "# 5 Training."
   ]
  },
  {
   "cell_type": "markdown",
   "metadata": {},
   "source": [
    "Below are the plots of metrics for each fold in training."
   ]
  },
  {
   "cell_type": "markdown",
   "metadata": {},
   "source": [
    "### 5.1 Random Forest\n",
    " "
   ]
  },
  {
   "cell_type": "markdown",
   "metadata": {},
   "source": [
    "<img src=\"charts/rnf_training.png\">"
   ]
  },
  {
   "cell_type": "markdown",
   "metadata": {},
   "source": [
    "### 5.2 KNN"
   ]
  },
  {
   "cell_type": "markdown",
   "metadata": {},
   "source": [
    "<img src=\"charts/knn_training.png\">"
   ]
  },
  {
   "cell_type": "markdown",
   "metadata": {},
   "source": [
    "### 5.3 LSTM"
   ]
  },
  {
   "cell_type": "markdown",
   "metadata": {},
   "source": [
    "<img src=\"charts/LSTM_Traning.png\">"
   ]
  },
  {
   "cell_type": "markdown",
   "metadata": {},
   "source": [
    "# 6 Metrics Comparison"
   ]
  },
  {
   "cell_type": "markdown",
   "metadata": {},
   "source": [
    "### 6.1 Random forest"
   ]
  },
  {
   "cell_type": "markdown",
   "metadata": {},
   "source": [
    "<pre>\n",
    "\tTP\tTN\tFP\tFN\tTPR\tTNR\tFPR\tFNR\tAccuracy\tPrecision\tF1\tbrier_score\tAUC\tBSS\n",
    "0\t146\t680\t21\t53\t0.734\t0.970\t0.030\t0.266\t0.918\t\t0.874\t\t0.798\t0.059\t\t0.967\t0.657\n",
    "1\t153\t661\t33\t53\t0.743\t0.952\t0.048\t0.257\t0.904\t\t0.823\t\t0.780\t0.063\t\t0.963\t0.643\n",
    "2\t136\t687\t27\t50\t0.731\t0.962\t0.038\t0.269\t0.914\t\t0.834\t\t0.780\t0.063\t\t0.959\t0.616\n",
    "3\t131\t698\t29\t42\t0.757\t0.960\t0.040\t0.243\t0.921\t\t0.819\t\t0.786\t0.058\t\t0.965\t0.626\n",
    "4\t141\t671\t26\t62\t0.695\t0.963\t0.037\t0.305\t0.902\t\t0.844\t\t0.762\t0.065\t\t0.963\t0.628\n",
    "5\t138\t680\t23\t59\t0.701\t0.967\t0.033\t0.299\t0.909\t\t0.857\t\t0.772\t0.063\t\t0.965\t0.632\n",
    "6\t143\t676\t15\t66\t0.684\t0.978\t0.022\t0.316\t0.910\t\t0.905\t\t0.780\t0.061\t\t0.966\t0.658\n",
    "7\t160\t659\t25\t56\t0.741\t0.963\t0.037\t0.259\t0.910\t\t0.865\t\t0.798\t0.062\t\t0.967\t0.660\n",
    "8\t151\t670\t27\t52\t0.744\t0.961\t0.039\t0.256\t0.912\t\t0.848\t\t0.792\t0.061\t\t0.966\t0.651\n",
    "9\t160\t667\t25\t48\t0.769\t0.964\t0.036\t0.231\t0.919\t\t0.865\t\t0.814\t0.059\t\t0.969\t0.668\n",
    "</pre>"
   ]
  },
  {
   "cell_type": "markdown",
   "metadata": {},
   "source": [
    "### 6.2 KNN"
   ]
  },
  {
   "cell_type": "markdown",
   "metadata": {},
   "source": [
    "<pre>\n",
    "\tTP\tTN\tFP\tFN\tTPR\tTNR\tFPR\tFNR\tAccuracy\tPrecision\tF1\tbrier_score\tAUC\tBSS\n",
    "0\t139\t652\t49\t60\t0.698\t0.930\t0.070\t0.302\t0.879\t\t0.739\t\t0.718\t0.096\t\t0.877\t0.443\n",
    "1\t155\t642\t52\t51\t0.752\t0.925\t0.075\t0.248\t0.886\t\t0.749\t\t0.750\t0.094\t\t0.891\t0.467\n",
    "2\t123\t653\t61\t63\t0.661\t0.915\t0.085\t0.339\t0.862\t\t0.668\t\t0.664\t0.099\t\t0.883\t0.396\n",
    "3\t115\t667\t60\t58\t0.665\t0.917\t0.083\t0.335\t0.869\t\t0.657\t\t0.660\t0.101\t\t0.877\t0.350\n",
    "4\t129\t643\t54\t74\t0.635\t0.923\t0.077\t0.365\t0.858\t\t0.705\t\t0.668\t0.107\t\t0.869\t0.387\n",
    "5\t125\t646\t57\t72\t0.635\t0.919\t0.081\t0.365\t0.857\t\t0.687\t\t0.660\t0.101\t\t0.879\t0.409\n",
    "6\t136\t659\t32\t73\t0.651\t0.954\t0.046\t0.349\t0.883\t\t0.810\t\t0.722\t0.087\t\t0.903\t0.512\n",
    "7\t149\t622\t62\t67\t0.690\t0.909\t0.091\t0.310\t0.857\t\t0.706\t\t0.698\t0.107\t\t0.876\t0.413\n",
    "8\t132\t653\t44\t71\t0.650\t0.937\t0.063\t0.350\t0.872\t\t0.750\t\t0.696\t0.094\t\t0.893\t0.462\n",
    "9\t141\t637\t55\t67\t0.678\t0.921\t0.079\t0.322\t0.864\t\t0.719\t\t0.698\t0.095\t\t0.899\t0.465\n",
    "</pre>"
   ]
  },
  {
   "cell_type": "markdown",
   "metadata": {},
   "source": [
    "### 6.3 LSTM"
   ]
  },
  {
   "cell_type": "markdown",
   "metadata": {},
   "source": [
    "<pre>\n",
    "\tTP\tTN\tFP\tFN\tTPR\tTNR\tFPR\tFNR\tAccuracy\tPrecision\tF1\tbrier_score\tAUC\tBSS\n",
    "0\t139\t632\t69\t60\t0.698\t0.902\t0.098\t0.302\t0.857\t\t0.668\t\t0.682\t0.102\t\t0.923\t0.408\n",
    "1\t137\t645\t49\t69\t0.665\t0.929\t0.071\t0.335\t0.869\t\t0.737\t\t0.700\t0.093\t\t0.926\t0.473\n",
    "2\t114\t675\t39\t72\t0.613\t0.945\t0.055\t0.387\t0.877\t\t0.745\t\t0.672\t0.091\t\t0.922\t0.445\n",
    "3\t122\t663\t64\t51\t0.705\t0.912\t0.088\t0.295\t0.872\t\t0.656\t\t0.680\t0.085\t\t0.932\t0.453\n",
    "4\t111\t665\t32\t92\t0.547\t0.954\t0.046\t0.453\t0.862\t\t0.776\t\t0.642\t0.098\t\t0.913\t0.439\n",
    "5\t136\t667\t36\t61\t0.690\t0.949\t0.051\t0.310\t0.892\t\t0.791\t\t0.738\t0.075\t\t0.948\t0.561\n",
    "6\t145\t656\t35\t64\t0.694\t0.949\t0.051\t0.306\t0.890\t\t0.806\t\t0.746\t0.075\t\t0.950\t0.579\n",
    "7\t146\t637\t47\t70\t0.676\t0.931\t0.069\t0.324\t0.870\t\t0.756\t\t0.714\t0.087\t\t0.937\t0.523\n",
    "8\t162\t635\t62\t41\t0.798\t0.911\t0.089\t0.202\t0.886\t\t0.723\t\t0.758\t0.079\t\t0.951\t0.548\n",
    "9\t158\t648\t44\t50\t0.760\t0.936\t0.064\t0.240\t0.896\t\t0.782\t\t0.770\t0.070\t\t0.958\t0.606\n",
    "\n",
    "</pre>"
   ]
  },
  {
   "cell_type": "markdown",
   "metadata": {},
   "source": [
    "### 6.4 Average Comparison"
   ]
  },
  {
   "cell_type": "markdown",
   "metadata": {},
   "source": [
    "<pre>\n",
    "\t\tRandom Forest\tKNN\t\tLSTM\n",
    "TP\t\t145.9000\t134.4000\t137.0000\n",
    "TN\t\t674.9000\t647.4000\t652.3000\n",
    "FP\t\t25.1000\t\t52.6000\t\t47.7000\n",
    "FN\t\t54.1000\t\t65.6000\t\t63.0000\n",
    "TPR\t\t0.7299\t\t0.6715\t\t0.6846\n",
    "TNR\t\t0.9640\t\t0.9250\t\t0.9318\n",
    "FPR\t\t0.0360\t\t0.0750\t\t0.0682\n",
    "FNR\t\t0.2701\t\t0.3285\t\t0.3154\n",
    "Accuracy\t0.9119\t\t0.8687\t\t0.8771\n",
    "Precision\t0.8534\t\t0.7190\t\t0.7440\n",
    "F1\t\t0.7862\t\t0.6934\t\t0.7102\n",
    "brier_score\t0.0614\t\t0.0981\t\t0.0855\n",
    "AUC\t\t0.9650\t\t0.8847\t\t0.9360\n",
    "BSS\t\t0.6439\t\t0.4304\t\t0.5035\n",
    "</pre>"
   ]
  },
  {
   "cell_type": "markdown",
   "metadata": {},
   "source": [
    "### 6.5 Foldwise Comparison "
   ]
  },
  {
   "cell_type": "markdown",
   "metadata": {},
   "source": [
    "##### 6.5.1 Fold 1:"
   ]
  },
  {
   "cell_type": "markdown",
   "metadata": {},
   "source": [
    "<pre>\n",
    "\t\tRandom Forest\tKNN\t\tLSTM\n",
    "TP\t\t146.000\t\t139.000\t\t139.000\n",
    "TN\t\t680.000\t\t652.000\t\t632.000\n",
    "FP\t\t21.000\t\t49.000\t\t69.000\n",
    "FN\t\t53.000\t\t60.000\t\t60.000\n",
    "TPR\t\t0.734\t\t0.698\t\t0.698\n",
    "TNR\t\t0.970\t\t0.930\t\t0.902\n",
    "FPR\t\t0.030\t\t0.070\t\t0.098\n",
    "FNR\t\t0.266\t\t0.302\t\t0.302\n",
    "Accuracy\t0.918\t\t0.879\t\t0.857\n",
    "Precision\t0.874\t\t0.739\t\t0.668\n",
    "F1\t\t0.798\t\t0.718\t\t0.682\n",
    "brier_score\t0.059\t\t0.096\t\t0.102\n",
    "AUC\t\t0.967\t\t0.877\t\t0.923\n",
    "BSS\t\t0.657\t\t0.443\t\t0.408\n",
    "</pre>"
   ]
  },
  {
   "cell_type": "markdown",
   "metadata": {},
   "source": [
    "<pre>\n",
    "\n",
    "</pre>"
   ]
  },
  {
   "cell_type": "markdown",
   "metadata": {},
   "source": [
    "##### Fold 2:"
   ]
  },
  {
   "cell_type": "markdown",
   "metadata": {},
   "source": [
    "<pre>\n",
    "\t\tRandom Forest\tKNN\t\tLSTM\n",
    "TP\t\t153.000\t\t155.000\t\t137.000\n",
    "TN\t\t661.000\t\t642.000\t\t645.000\n",
    "FP\t\t33.000\t\t52.000\t\t49.000\n",
    "FN\t\t53.000\t\t51.000\t\t69.000\n",
    "TPR\t\t0.743\t\t0.752\t\t0.665\n",
    "TNR\t\t0.952\t\t0.925\t\t0.929\n",
    "FPR\t\t0.048\t\t0.075\t\t0.071\n",
    "FNR\t\t0.257\t\t0.248\t\t0.335\n",
    "Accuracy\t0.904\t\t0.886\t\t0.869\n",
    "Precision\t0.823\t\t0.749\t\t0.737\n",
    "F1\t\t0.780\t\t0.750\t\t0.700\n",
    "brier_score\t0.063\t\t0.094\t\t0.093\n",
    "AUC\t\t0.963\t\t0.891\t\t0.926\n",
    "BSS\t\t0.643\t\t0.467\t\t0.473\n",
    "</pre>"
   ]
  },
  {
   "cell_type": "markdown",
   "metadata": {},
   "source": [
    "##### Fold 3:"
   ]
  },
  {
   "cell_type": "markdown",
   "metadata": {},
   "source": [
    "<pre>\n",
    "\t\tRandom Forest\tKNN\t\tLSTM\n",
    "TP\t\t136.000\t\t123.000\t\t114.000\n",
    "TN\t\t687.000\t\t653.000\t\t675.000\n",
    "FP\t\t27.000\t\t61.000\t\t39.000\n",
    "FN\t\t50.000\t\t63.000\t\t72.000\n",
    "TPR\t\t0.731\t\t0.661\t\t0.613\n",
    "TNR\t\t0.962\t\t0.915\t\t0.945\n",
    "FPR\t\t0.038\t\t0.085\t\t0.055\n",
    "FNR\t\t0.269\t\t0.339\t\t0.387\n",
    "Accuracy\t0.914\t\t0.862\t\t0.877\n",
    "Precision\t0.834\t\t0.668\t\t0.745\n",
    "F1\t\t0.780\t\t0.664\t\t0.672\n",
    "brier_score\t0.063\t\t0.099\t\t0.091\n",
    "AUC\t\t0.959\t\t0.883\t\t0.922\n",
    "BSS\t\t0.616\t\t0.396\t\t0.445\n",
    "</pre>"
   ]
  },
  {
   "cell_type": "markdown",
   "metadata": {},
   "source": [
    "##### Fold 4:"
   ]
  },
  {
   "cell_type": "markdown",
   "metadata": {},
   "source": [
    "<pre>\n",
    "\t\tRandom Forest\tKNN\t\tLSTM\n",
    "TP\t\t131.000\t\t115.000\t\t122.000\n",
    "TN\t\t698.000\t\t667.000\t\t663.000\n",
    "FP\t\t29.000\t\t60.000\t\t64.000\n",
    "FN\t\t42.000\t\t58.000\t\t51.000\n",
    "TPR\t\t0.757\t\t0.665\t\t0.705\n",
    "TNR\t\t0.960\t\t0.917\t\t0.912\n",
    "FPR\t\t0.040\t\t0.083\t\t0.088\n",
    "FNR\t\t0.243\t\t0.335\t\t0.295\n",
    "Accuracy\t0.921\t\t0.869\t\t0.872\n",
    "Precision\t0.819\t\t0.657\t\t0.656\n",
    "F1\t\t0.786\t\t0.660\t\t0.680\n",
    "brier_score\t0.058\t\t0.101\t\t0.085\n",
    "AUC\t\t0.965\t\t0.877\t\t0.932\n",
    "BSS\t\t0.626\t\t0.350\t\t0.453\n",
    "\n",
    "</pre>"
   ]
  },
  {
   "cell_type": "markdown",
   "metadata": {},
   "source": [
    "##### Fold 5:"
   ]
  },
  {
   "cell_type": "markdown",
   "metadata": {},
   "source": [
    "<pre>\n",
    "\t\tRandom Forest\tKNN\t\tLSTM\n",
    "TP\t\t141.000\t\t129.000\t\t136.000\n",
    "TN\t\t671.000\t\t643.000\t\t633.000\n",
    "FP\t\t26.000\t\t54.000\t\t64.000\n",
    "FN\t\t62.000\t\t74.000\t\t67.000\n",
    "TPR\t\t0.695\t\t0.635\t\t0.670\n",
    "TNR\t\t0.963\t\t0.923\t\t0.908\n",
    "FPR\t\t0.037\t\t0.077\t\t0.092\n",
    "FNR\t\t0.305\t\t0.365\t\t0.330\n",
    "Accuracy\t0.902\t\t0.858\t\t0.854\n",
    "Precision\t0.844\t\t0.705\t\t0.680\n",
    "F1\t\t0.762\t\t0.668\t\t0.674\n",
    "brier_score\t0.065\t\t0.107\t\t0.100\n",
    "AUC\t\t0.963\t\t0.869\t\t0.915\n",
    "BSS\t\t0.628\t\t0.387\t\t0.428\n",
    "</pre>"
   ]
  },
  {
   "cell_type": "markdown",
   "metadata": {},
   "source": [
    "##### Fold 6:"
   ]
  },
  {
   "cell_type": "markdown",
   "metadata": {},
   "source": [
    "<pre>\n",
    "\t\tRandom Forest\tKNN\t\tLSTM\n",
    "TP\t\t138.000\t\t125.000\t\t134.000\n",
    "TN\t\t680.000\t\t646.000\t\t674.000\n",
    "FP\t\t23.000\t\t57.000\t\t29.000\n",
    "FN\t\t59.000\t\t72.000\t\t63.000\n",
    "TPR\t\t0.701\t\t0.635\t\t0.680\n",
    "TNR\t\t0.967\t\t0.919\t\t0.959\n",
    "FPR\t\t0.033\t\t0.081\t\t0.041\n",
    "FNR\t\t0.299\t\t0.365\t\t0.320\n",
    "Accuracy\t0.909\t\t0.857\t\t0.898\n",
    "Precision\t0.857\t\t0.687\t\t0.822\n",
    "F1\t\t0.772\t\t0.660\t\t0.744\n",
    "brier_score\t0.063\t\t0.101\t\t0.075\n",
    "AUC\t\t0.965\t\t0.879\t\t0.949\n",
    "BSS\t\t0.632\t\t0.409\t\t0.561\n",
    "</pre>\n"
   ]
  },
  {
   "cell_type": "markdown",
   "metadata": {},
   "source": [
    "##### Fold 7:"
   ]
  },
  {
   "cell_type": "markdown",
   "metadata": {},
   "source": [
    "<pre>\n",
    "\t\tRandom Forest\tKNN\t\tLSTM\n",
    "TP\t\t143.000\t\t136.000\t\t138.000\n",
    "TN\t\t676.000\t\t659.000\t\t664.000\n",
    "FP\t\t15.000\t\t32.000\t\t27.000\n",
    "FN\t\t66.000\t\t73.000\t\t71.000\n",
    "TPR\t\t0.684\t\t0.651\t\t0.660\n",
    "TNR\t\t0.978\t\t0.954\t\t0.961\n",
    "FPR\t\t0.022\t\t0.046\t\t0.039\n",
    "FNR\t\t0.316\t\t0.349\t\t0.340\n",
    "Accuracy\t0.910\t\t0.883\t\t0.891\n",
    "Precision\t0.905\t\t0.810\t\t0.836\n",
    "F1\t\t0.780\t\t0.722\t\t0.738\n",
    "brier_score\t0.061\t\t0.087\t\t0.078\n",
    "AUC\t\t0.966\t\t0.903\t\t0.950\n",
    "BSS\t\t0.658\t\t0.512\t\t0.563\n",
    "</pre>"
   ]
  },
  {
   "cell_type": "markdown",
   "metadata": {},
   "source": [
    "##### Fold 8:"
   ]
  },
  {
   "cell_type": "markdown",
   "metadata": {},
   "source": [
    "<pre>\n",
    "\t\tRandom Forest\tKNN\t\tLSTM\n",
    "TP\t\t160.000\t\t149.000\t\t139.000\n",
    "TN\t\t659.000\t\t622.000\t\t642.000\n",
    "FP\t\t25.000\t\t62.000\t\t42.000\n",
    "FN\t\t56.000\t\t67.000\t\t77.000\n",
    "TPR\t\t0.741\t\t0.690\t\t0.644\n",
    "TNR\t\t0.963\t\t0.909\t\t0.939\n",
    "FPR\t\t0.037\t\t0.091\t\t0.061\n",
    "FNR\t\t0.259\t\t0.310\t\t0.356\n",
    "Accuracy\t0.910\t\t0.857\t\t0.868\n",
    "Precision\t0.865\t\t0.706\t\t0.768\n",
    "F1\t\t0.798\t\t0.698\t\t0.700\n",
    "brier_score\t0.062\t\t0.107\t\t0.088\n",
    "AUC\t\t0.967\t\t0.876\t\t0.938\n",
    "BSS\t\t0.660\t\t0.413\t\t0.518\n",
    "</pre>"
   ]
  },
  {
   "cell_type": "markdown",
   "metadata": {},
   "source": [
    "##### Fold 9:"
   ]
  },
  {
   "cell_type": "markdown",
   "metadata": {},
   "source": [
    "<pre>\n",
    "\t\tRandom Forest\tKNN\t\tLSTM\n",
    "TP\t\t151.000\t\t132.000\t\t152.000\n",
    "TN\t\t670.000\t\t653.000\t\t653.000\n",
    "FP\t\t27.000\t\t44.000\t\t44.000\n",
    "FN\t\t52.000\t\t71.000\t\t51.000\n",
    "TPR\t\t0.744\t\t0.650\t\t0.749\n",
    "TNR\t\t0.961\t\t0.937\t\t0.937\n",
    "FPR\t\t0.039\t\t0.063\t\t0.063\n",
    "FNR\t\t0.256\t\t0.350\t\t0.251\n",
    "Accuracy\t0.912\t\t0.872\t\t0.894\n",
    "Precision\t0.848\t\t0.750\t\t0.776\n",
    "F1\t\t0.792\t\t0.696\t\t0.762\n",
    "brier_score\t0.061\t\t0.094\t\t0.075\n",
    "AUC\t\t0.966\t\t0.893\t\t0.950\n",
    "BSS\t\t0.651\t\t0.462\t\t0.571\n",
    "</pre>"
   ]
  },
  {
   "cell_type": "markdown",
   "metadata": {},
   "source": [
    "##### Fold 10:"
   ]
  },
  {
   "cell_type": "markdown",
   "metadata": {},
   "source": [
    "<pre>\n",
    "\t\tRandom Forest\tKNN\t\tLSTM\n",
    "TP\t\t160.000\t\t141.000\t\t154.000\n",
    "TN\t\t667.000\t\t637.000\t\t657.000\n",
    "FP\t\t25.000\t\t55.000\t\t35.000\n",
    "FN\t\t48.000\t\t67.000\t\t54.000\n",
    "TPR\t\t0.769\t\t0.678\t\t0.740\n",
    "TNR\t\t0.964\t\t0.921\t\t0.949\n",
    "FPR\t\t0.036\t\t0.079\t\t0.051\n",
    "FNR\t\t0.231\t\t0.322\t\t0.260\n",
    "Accuracy\t0.919\t\t0.864\t\t0.901\n",
    "Precision\t0.865\t\t0.719\t\t0.815\n",
    "F1\t\t0.814\t\t0.698\t\t0.776\n",
    "brier_score\t0.059\t\t0.095\t\t0.070\n",
    "AUC\t\t0.969\t\t0.899\t\t0.959\n",
    "BSS\t\t0.668\t\t0.465\t\t0.606\n",
    "</pre>"
   ]
  },
  {
   "cell_type": "markdown",
   "metadata": {},
   "source": [
    "##### 6.6 ROC curves"
   ]
  },
  {
   "cell_type": "markdown",
   "metadata": {},
   "source": [
    "6.6.1 Random Forest"
   ]
  },
  {
   "cell_type": "markdown",
   "metadata": {},
   "source": [
    "<img src=\"charts/rf_roc.png\">"
   ]
  },
  {
   "cell_type": "markdown",
   "metadata": {},
   "source": [
    "6.6.2 KNN"
   ]
  },
  {
   "cell_type": "markdown",
   "metadata": {},
   "source": [
    "<img src=\"charts/KNN_roc.png\">"
   ]
  },
  {
   "cell_type": "markdown",
   "metadata": {},
   "source": [
    "6.6.3 LSTM"
   ]
  },
  {
   "cell_type": "markdown",
   "metadata": {},
   "source": [
    "<img src=\"charts/LSTM_roc.png\">"
   ]
  },
  {
   "cell_type": "markdown",
   "metadata": {},
   "source": [
    "# 7. Conculsion"
   ]
  },
  {
   "cell_type": "markdown",
   "metadata": {},
   "source": [
    "Random Forest outperforms KNN and LSTM on all critical measures. It has the best accuracy (91.19%), AUC (0.965), and precision (0.8534) while achieving the lowest Brier score (0.0614) and FPR (0.0360), showing good classification and calibration. LSTM performs moderately, with higher precision (0.7440) and F1-score (0.7102) than KNN, but it falls short of Random Forest in accuracy (87.71%) and calibration. KNN performs poorly, with the lowest accuracy (86.87%), AUC (0.8847), and calibration scores. Overall, Random Forest is the most trustworthy option, with LSTM coming in second."
   ]
  }
 ],
 "metadata": {
  "kernelspec": {
   "display_name": "Python 3 (ipykernel)",
   "language": "python",
   "name": "python3"
  },
  "language_info": {
   "codemirror_mode": {
    "name": "ipython",
    "version": 3
   },
   "file_extension": ".py",
   "mimetype": "text/x-python",
   "name": "python",
   "nbconvert_exporter": "python",
   "pygments_lexer": "ipython3",
   "version": "3.12.7"
  }
 },
 "nbformat": 4,
 "nbformat_minor": 4
}
